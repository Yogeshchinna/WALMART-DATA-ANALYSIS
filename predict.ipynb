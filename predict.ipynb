{
 "cells": [
  {
   "cell_type": "code",
   "execution_count": null,
   "id": "53caeba0",
   "metadata": {},
   "outputs": [],
   "source": [
    "# predict.py\n",
    "import streamlit as st\n",
    "import seaborn as sns\n",
    "import matplotlib.pyplot as plt\n",
    "\n",
    "def show_predict_page():\n",
    "    st.title(\"Walmart Sales Prediction\")\n",
    "\n",
    "    # Correlation heatmap\n",
    "    # If you reference a DataFrame like 'df', ensure it's defined or passed to this function\n",
    "    figure = plt.figure(figsize=(12, 12))\n",
    "    sns.heatmap(df.corr(), annot=True)\n",
    "    st.pyplot(figure)\n",
    "\n",
    "    # Bar plot for Store vs Weekly Sales\n",
    "    figure1 = plt.figure(figsize=(12, 12))\n",
    "    sns.barplot(x='Store', y='Weekly_Sales', data=df)  # Ensure 'df' is defined\n",
    "    st.pyplot(figure1)\n",
    "\n",
    "    # Bar plot for Dept vs Weekly Sales\n",
    "    figure2 = plt.figure(figsize=(12, 12))\n",
    "    sns.barplot(x='Dept', y='Weekly_Sales', data=df)\n",
    "    st.pyplot(figure2)\n",
    "\n",
    "    # Slider for input\n",
    "    storeID = st.slider(\"Input StoreID:\", 1, 50, 1)\n",
    "    department = st.slider(\"Input Department Number:\", 1, 100, 1)\n",
    "    holiday = st.radio(\"Holiday\", (True, False))\n",
    "    sales = st.button(\"Calculate Weekly Sales\")\n",
    "\n",
    "    if sales:\n",
    "        mk = np.array([[storeID, department, holiday]])\n",
    "        mk = mk.astype(float)\n",
    "        y_new = model.predict(mk)  # Ensure 'model' is defined\n",
    "        st.subheader(f'Estimated Sales is {y_new[0]:.2f}')\n"
   ]
  }
 ],
 "metadata": {
  "kernelspec": {
   "display_name": "Python 3 (ipykernel)",
   "language": "python",
   "name": "python3"
  },
  "language_info": {
   "codemirror_mode": {
    "name": "ipython",
    "version": 3
   },
   "file_extension": ".py",
   "mimetype": "text/x-python",
   "name": "python",
   "nbconvert_exporter": "python",
   "pygments_lexer": "ipython3",
   "version": "3.11.4"
  }
 },
 "nbformat": 4,
 "nbformat_minor": 5
}
